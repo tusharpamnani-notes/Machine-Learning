{
  "nbformat": 4,
  "nbformat_minor": 0,
  "metadata": {
    "colab": {
      "provenance": []
    },
    "kernelspec": {
      "name": "python3",
      "display_name": "Python 3"
    },
    "language_info": {
      "name": "python"
    }
  },
  "cells": [
    {
      "cell_type": "markdown",
      "source": [
        "# Numpy\n",
        "\n",
        "\n"
      ],
      "metadata": {
        "id": "z1CU4PQlh7tu"
      }
    },
    {
      "cell_type": "markdown",
      "source": [
        "Suppose we want to use climate data like the temperature, rainfall, and humidity to determine if a region is well suited for growing apples. A simple approach for doing this would be to formulate the relationship between the annual yield of apples (tons per hectare) and the climatic conditions like the average temperature (in degrees Fahrenheit), rainfall (in millimeters) & average relative humidity (in percentage) as a linear equation.\n",
        "\n",
        "`yield_of_apples = w1 * temperature + w2 * rainfall + w3 * humidity`"
      ],
      "metadata": {
        "id": "mySxNd7Xidks"
      }
    },
    {
      "cell_type": "markdown",
      "source": [
        "Based on some statical analysis of historical data, we might come up with reasonable values for the weights `w1`, `w2`, and `w3`"
      ],
      "metadata": {
        "id": "HW7vpmcmi-lL"
      }
    },
    {
      "cell_type": "code",
      "source": [
        "w1, w2, w3 = 0.3, 0.2, 0.5"
      ],
      "metadata": {
        "id": "Zac5_91XhjjP"
      },
      "execution_count": 1,
      "outputs": []
    },
    {
      "cell_type": "code",
      "source": [
        "kanto_temp = 73\n",
        "kanto_rainfall = 67\n",
        "kanto_humidity = 43"
      ],
      "metadata": {
        "id": "DlJc9hmRitob"
      },
      "execution_count": 2,
      "outputs": []
    },
    {
      "cell_type": "markdown",
      "source": [
        "Taking an example of `kanto`"
      ],
      "metadata": {
        "id": "C7dwyfrCjcTH"
      }
    },
    {
      "cell_type": "code",
      "source": [
        "kanto_yield_apples = kanto_temp * w1 + kanto_rainfall * w2 + kanto_humidity * w3\n",
        "kanto_yield_apples"
      ],
      "metadata": {
        "colab": {
          "base_uri": "https://localhost:8080/"
        },
        "id": "3Ue7TC5Civ6q",
        "outputId": "2414d6ce-cfaf-4fb5-abe0-6faf871b5995"
      },
      "execution_count": 3,
      "outputs": [
        {
          "output_type": "execute_result",
          "data": {
            "text/plain": [
              "56.8"
            ]
          },
          "metadata": {},
          "execution_count": 3
        }
      ]
    },
    {
      "cell_type": "code",
      "source": [
        "print(\"The expected yield of apples in Kanto region is {} tons per hectare.\".format(kanto_yield_apples))"
      ],
      "metadata": {
        "colab": {
          "base_uri": "https://localhost:8080/"
        },
        "id": "YTCy336miy2o",
        "outputId": "d91c62b2-2a02-4045-91a4-13a92580a118"
      },
      "execution_count": 4,
      "outputs": [
        {
          "output_type": "stream",
          "name": "stdout",
          "text": [
            "The expected yield of apples in Kanto region is 56.8 tons per hectare.\n"
          ]
        }
      ]
    },
    {
      "cell_type": "markdown",
      "source": [
        "For easier calculations, let's convert the given data into lists"
      ],
      "metadata": {
        "id": "DqBv69-BjtNk"
      }
    },
    {
      "cell_type": "code",
      "source": [
        "kanto = [73, 67, 43]\n",
        "johto = [91, 88, 64]\n",
        "hoenn = [87, 134, 58]\n",
        "sinnoh = [102, 43, 37]\n",
        "unova = [69, 96, 70]"
      ],
      "metadata": {
        "id": "VM4Oqp-mjj1T"
      },
      "execution_count": 5,
      "outputs": []
    },
    {
      "cell_type": "markdown",
      "source": [
        "The three numbers in each vector represent the temperature, rainfall, and humidity data, respectively.\n",
        "\n",
        "We can also represent the set of weights used in the formula as a vector."
      ],
      "metadata": {
        "id": "1lL7qpAHj4gn"
      }
    },
    {
      "cell_type": "code",
      "source": [
        "weights = [w1, w2, w3]"
      ],
      "metadata": {
        "id": "UDlT4x6Rj1XE"
      },
      "execution_count": 6,
      "outputs": []
    },
    {
      "cell_type": "markdown",
      "source": [
        "We can now write a function `crop_yield` to calcuate the yield of apples (or any other crop) given the climate data and the respective weights."
      ],
      "metadata": {
        "id": "9PEQwydAj-H0"
      }
    },
    {
      "cell_type": "code",
      "source": [
        "def crop_yield(region, weights):\n",
        "    result = 0\n",
        "    for x, w in zip(region, weights):\n",
        "        result += x * w\n",
        "    return result"
      ],
      "metadata": {
        "id": "14J9rt3kj7mo"
      },
      "execution_count": 7,
      "outputs": []
    },
    {
      "cell_type": "code",
      "source": [
        "crop_yield(kanto, weights)"
      ],
      "metadata": {
        "colab": {
          "base_uri": "https://localhost:8080/"
        },
        "id": "cRNdW8c-kAru",
        "outputId": "33483aef-60b9-4d22-e040-9dadac8c259f"
      },
      "execution_count": 8,
      "outputs": [
        {
          "output_type": "execute_result",
          "data": {
            "text/plain": [
              "56.8"
            ]
          },
          "metadata": {},
          "execution_count": 8
        }
      ]
    },
    {
      "cell_type": "code",
      "source": [
        "crop_yield(johto, weights)"
      ],
      "metadata": {
        "colab": {
          "base_uri": "https://localhost:8080/"
        },
        "id": "iRciE62jkC3m",
        "outputId": "9b0b4f0f-86ae-45b4-d4e7-982f45af40ee"
      },
      "execution_count": 9,
      "outputs": [
        {
          "output_type": "execute_result",
          "data": {
            "text/plain": [
              "76.9"
            ]
          },
          "metadata": {},
          "execution_count": 9
        }
      ]
    },
    {
      "cell_type": "code",
      "source": [
        "crop_yield(unova, weights)"
      ],
      "metadata": {
        "colab": {
          "base_uri": "https://localhost:8080/"
        },
        "id": "BXP73qUikEaL",
        "outputId": "c63e4453-f157-4c7d-d511-419cf7c321ac"
      },
      "execution_count": 10,
      "outputs": [
        {
          "output_type": "execute_result",
          "data": {
            "text/plain": [
              "74.9"
            ]
          },
          "metadata": {},
          "execution_count": 10
        }
      ]
    },
    {
      "cell_type": "markdown",
      "source": [
        "Next, let's import the `numpy` module. It's common practice to import numpy with the alias `np`."
      ],
      "metadata": {
        "id": "hbGv27nukJ3f"
      }
    },
    {
      "cell_type": "code",
      "source": [
        "import numpy as np"
      ],
      "metadata": {
        "id": "LWrHhB_okFyF"
      },
      "execution_count": 11,
      "outputs": []
    },
    {
      "cell_type": "code",
      "source": [
        "kanto = np.array([73, 67, 43])"
      ],
      "metadata": {
        "id": "ZyRqNdxMkMfd"
      },
      "execution_count": 12,
      "outputs": []
    },
    {
      "cell_type": "code",
      "source": [
        "kanto"
      ],
      "metadata": {
        "colab": {
          "base_uri": "https://localhost:8080/"
        },
        "id": "johuEbhbkqkJ",
        "outputId": "ae969f4d-c569-49c0-a7de-3b81105e13e0"
      },
      "execution_count": 13,
      "outputs": [
        {
          "output_type": "execute_result",
          "data": {
            "text/plain": [
              "array([73, 67, 43])"
            ]
          },
          "metadata": {},
          "execution_count": 13
        }
      ]
    },
    {
      "cell_type": "code",
      "source": [
        "weights = np.array([w1, w2, w3])"
      ],
      "metadata": {
        "id": "rqr9r0P4ksPK"
      },
      "execution_count": 14,
      "outputs": []
    },
    {
      "cell_type": "code",
      "source": [
        "weights"
      ],
      "metadata": {
        "colab": {
          "base_uri": "https://localhost:8080/"
        },
        "id": "CPCLDVSNkv8E",
        "outputId": "ace34c12-4bbc-4007-da0b-a9eeda5f7a04"
      },
      "execution_count": 15,
      "outputs": [
        {
          "output_type": "execute_result",
          "data": {
            "text/plain": [
              "array([0.3, 0.2, 0.5])"
            ]
          },
          "metadata": {},
          "execution_count": 15
        }
      ]
    },
    {
      "cell_type": "markdown",
      "source": [
        "Numpy arrays have the type `ndarray`."
      ],
      "metadata": {
        "id": "T_oBz3NVk0Ko"
      }
    },
    {
      "cell_type": "code",
      "source": [
        "type(kanto)"
      ],
      "metadata": {
        "colab": {
          "base_uri": "https://localhost:8080/"
        },
        "id": "QO4n_-6Skw_g",
        "outputId": "acd2d493-4658-4cac-c5da-5acc8e9126b4"
      },
      "execution_count": 16,
      "outputs": [
        {
          "output_type": "execute_result",
          "data": {
            "text/plain": [
              "numpy.ndarray"
            ]
          },
          "metadata": {},
          "execution_count": 16
        }
      ]
    },
    {
      "cell_type": "markdown",
      "source": [
        "Just like lists, Numpy arrays support the indexing notation `[]`."
      ],
      "metadata": {
        "id": "YoMN0DCPk46D"
      }
    },
    {
      "cell_type": "code",
      "source": [
        "weights[0]"
      ],
      "metadata": {
        "colab": {
          "base_uri": "https://localhost:8080/"
        },
        "id": "_KsPhFSIk2jg",
        "outputId": "a9cda102-c267-45aa-9aac-88c430a15cf0"
      },
      "execution_count": 17,
      "outputs": [
        {
          "output_type": "execute_result",
          "data": {
            "text/plain": [
              "0.3"
            ]
          },
          "metadata": {},
          "execution_count": 17
        }
      ]
    },
    {
      "cell_type": "code",
      "source": [
        "kanto[2]"
      ],
      "metadata": {
        "colab": {
          "base_uri": "https://localhost:8080/"
        },
        "id": "sz1J-svyk7hb",
        "outputId": "658ddb4b-6a01-4ea4-d913-5c7e54331368"
      },
      "execution_count": 18,
      "outputs": [
        {
          "output_type": "execute_result",
          "data": {
            "text/plain": [
              "43"
            ]
          },
          "metadata": {},
          "execution_count": 18
        }
      ]
    },
    {
      "cell_type": "markdown",
      "source": [
        "## Operating on Numpy arrays\n",
        "\n",
        "We can compute the dot product of the two vectors using the `np.dot` function."
      ],
      "metadata": {
        "id": "u1jAm03GlBMC"
      }
    },
    {
      "cell_type": "code",
      "source": [
        "np.dot(kanto, weights)"
      ],
      "metadata": {
        "colab": {
          "base_uri": "https://localhost:8080/"
        },
        "id": "vA3nTUxWk812",
        "outputId": "3b892e90-ff81-4eb2-da44-5152fd8a4c08"
      },
      "execution_count": 19,
      "outputs": [
        {
          "output_type": "execute_result",
          "data": {
            "text/plain": [
              "56.8"
            ]
          },
          "metadata": {},
          "execution_count": 19
        }
      ]
    },
    {
      "cell_type": "code",
      "source": [
        "(kanto * weights).sum()"
      ],
      "metadata": {
        "colab": {
          "base_uri": "https://localhost:8080/"
        },
        "id": "0FPe4j92lGHG",
        "outputId": "cbe9e612-6c2c-4c9b-bb0d-4445812ed611"
      },
      "execution_count": 20,
      "outputs": [
        {
          "output_type": "execute_result",
          "data": {
            "text/plain": [
              "56.8"
            ]
          },
          "metadata": {},
          "execution_count": 20
        }
      ]
    },
    {
      "cell_type": "markdown",
      "source": [
        "The `*` operator performs an element-wise multiplication of two arrays if they have the same size. The `sum` method calculates the sum of numbers in an array."
      ],
      "metadata": {
        "id": "9oAqrTF6lOGB"
      }
    },
    {
      "cell_type": "code",
      "source": [
        "arr1 = np.array([1, 2, 3])\n",
        "arr2 = np.array([4, 5, 6])"
      ],
      "metadata": {
        "id": "shcYPe9-lIb3"
      },
      "execution_count": 21,
      "outputs": []
    },
    {
      "cell_type": "code",
      "source": [
        "arr1 * arr2"
      ],
      "metadata": {
        "colab": {
          "base_uri": "https://localhost:8080/"
        },
        "id": "pcljuqNPlQIH",
        "outputId": "ef6d4383-3291-4f07-ba18-7042eb5c09b3"
      },
      "execution_count": 22,
      "outputs": [
        {
          "output_type": "execute_result",
          "data": {
            "text/plain": [
              "array([ 4, 10, 18])"
            ]
          },
          "metadata": {},
          "execution_count": 22
        }
      ]
    },
    {
      "cell_type": "code",
      "source": [
        "arr2.sum()"
      ],
      "metadata": {
        "colab": {
          "base_uri": "https://localhost:8080/"
        },
        "id": "KIMDwOgalSO3",
        "outputId": "1fb7a32d-bd45-403d-ca1f-e8d6f49228d5"
      },
      "execution_count": 23,
      "outputs": [
        {
          "output_type": "execute_result",
          "data": {
            "text/plain": [
              "15"
            ]
          },
          "metadata": {},
          "execution_count": 23
        }
      ]
    },
    {
      "cell_type": "markdown",
      "source": [
        "## Benefits of using Numpy arrays\n",
        "\n",
        "Numpy arrays offer the following benefits over Python lists for operating on numerical data:\n",
        "\n",
        "- **Ease of use**: You can write small, concise, and intuitive mathematical expressions like `(kanto * weights).sum()` rather than using loops & custom functions like `crop_yield`.\n",
        "- **Performance**: Numpy operations and functions are implemented internally in C++, which makes them much faster than using Python statements & loops that are interpreted at runtime\n",
        "\n",
        "Here's a comparison of dot products performed using Python loops vs. Numpy arrays on two vectors with a million elements each."
      ],
      "metadata": {
        "id": "cWpTBO2jl9Yn"
      }
    },
    {
      "cell_type": "code",
      "source": [
        "# Python lists\n",
        "arr1 = list(range(1000000))\n",
        "arr2 = list(range(1000000, 2000000))\n",
        "\n",
        "# Numpy arrays\n",
        "arr1_np = np.array(arr1)\n",
        "arr2_np = np.array(arr2)"
      ],
      "metadata": {
        "id": "qrNjm4salTw1"
      },
      "execution_count": 24,
      "outputs": []
    },
    {
      "cell_type": "markdown",
      "source": [
        "`%time` and `%%time` commands provide you with information about the execution time of a single statement or an entire cell, respectively."
      ],
      "metadata": {
        "id": "VEFcEGsJm4QJ"
      }
    },
    {
      "cell_type": "markdown",
      "source": [
        "`zip()` is a built-in Python function that is used to combine two or more iterable objects (e.g., lists, tuples, or other sequences) element-wise, creating an iterator that generates tuples containing elements from the input iterables at the same position. It continues until the shortest input iterable is exhausted."
      ],
      "metadata": {
        "id": "YlJGENPbnGlo"
      }
    },
    {
      "cell_type": "code",
      "source": [
        "%%time\n",
        "result = 0\n",
        "for x1, x2 in zip(arr1, arr2):\n",
        "    result += x1*x2\n",
        "result"
      ],
      "metadata": {
        "colab": {
          "base_uri": "https://localhost:8080/"
        },
        "id": "1ntEHVmxmBPV",
        "outputId": "b108b52e-727d-449e-a0bb-5d1343b7af5d"
      },
      "execution_count": 25,
      "outputs": [
        {
          "output_type": "stream",
          "name": "stdout",
          "text": [
            "CPU times: user 443 ms, sys: 1.21 ms, total: 444 ms\n",
            "Wall time: 455 ms\n"
          ]
        },
        {
          "output_type": "execute_result",
          "data": {
            "text/plain": [
              "833332333333500000"
            ]
          },
          "metadata": {},
          "execution_count": 25
        }
      ]
    },
    {
      "cell_type": "code",
      "source": [
        "%%time\n",
        "np.dot(arr1_np, arr2_np)"
      ],
      "metadata": {
        "colab": {
          "base_uri": "https://localhost:8080/"
        },
        "id": "H_GvJLgrmh7e",
        "outputId": "9937d7c0-fc10-4433-f97a-06d52bbb0494"
      },
      "execution_count": 26,
      "outputs": [
        {
          "output_type": "stream",
          "name": "stdout",
          "text": [
            "CPU times: user 1.58 ms, sys: 0 ns, total: 1.58 ms\n",
            "Wall time: 1.59 ms\n"
          ]
        },
        {
          "output_type": "execute_result",
          "data": {
            "text/plain": [
              "833332333333500000"
            ]
          },
          "metadata": {},
          "execution_count": 26
        }
      ]
    },
    {
      "cell_type": "markdown",
      "source": [
        "As you can see, using `np.dot` is 100 times faster than using a `for` loop. This makes `Numpy` especially useful while working with really large datasets with tens of thousands or millions of data points.\n"
      ],
      "metadata": {
        "id": "Z2f4KnNlnQD5"
      }
    },
    {
      "cell_type": "markdown",
      "source": [
        "## Multi-dimensional Numpy arrays\n",
        "\n",
        "We can represent the climate data for all the regions using a single 2-dimensional Numpy array."
      ],
      "metadata": {
        "id": "Z9YM2m_Jn4oE"
      }
    },
    {
      "cell_type": "code",
      "source": [
        "climate_data = np.array([[73, 67, 43],\n",
        "                         [91, 88, 64],\n",
        "                         [87, 134, 58],\n",
        "                         [102, 43, 37],\n",
        "                         [69, 96, 70]])"
      ],
      "metadata": {
        "id": "Vze2Cv0Fmnzf"
      },
      "execution_count": 27,
      "outputs": []
    },
    {
      "cell_type": "code",
      "source": [
        "climate_data"
      ],
      "metadata": {
        "colab": {
          "base_uri": "https://localhost:8080/"
        },
        "id": "tqsbnNXZn9lo",
        "outputId": "dcef4324-de7c-47ac-c912-a86bf5f48702"
      },
      "execution_count": 28,
      "outputs": [
        {
          "output_type": "execute_result",
          "data": {
            "text/plain": [
              "array([[ 73,  67,  43],\n",
              "       [ 91,  88,  64],\n",
              "       [ 87, 134,  58],\n",
              "       [102,  43,  37],\n",
              "       [ 69,  96,  70]])"
            ]
          },
          "metadata": {},
          "execution_count": 28
        }
      ]
    },
    {
      "cell_type": "markdown",
      "source": [
        "Above shown 2-d array is a matrix with five rows and three columns. Each row represents one region, and the columns represent temperature, rainfall, and humidity, respectively.\n",
        "\n",
        "Numpy arrays can have any number of dimensions and different lengths along each dimension. We can inspect the length along each dimension using the `.shape` property of an array.\n"
      ],
      "metadata": {
        "id": "gc494gtboCv3"
      }
    },
    {
      "cell_type": "code",
      "source": [
        "# 2D array (matrix)\n",
        "climate_data.shape"
      ],
      "metadata": {
        "colab": {
          "base_uri": "https://localhost:8080/"
        },
        "id": "FxJIX9svn_Xu",
        "outputId": "4314d6ad-56d2-4aac-8676-212dc5e124f7"
      },
      "execution_count": 29,
      "outputs": [
        {
          "output_type": "execute_result",
          "data": {
            "text/plain": [
              "(5, 3)"
            ]
          },
          "metadata": {},
          "execution_count": 29
        }
      ]
    },
    {
      "cell_type": "code",
      "source": [
        "weights"
      ],
      "metadata": {
        "colab": {
          "base_uri": "https://localhost:8080/"
        },
        "id": "KLTis6TooTgl",
        "outputId": "da613157-588e-4051-f17a-8f63a0b0ce21"
      },
      "execution_count": 30,
      "outputs": [
        {
          "output_type": "execute_result",
          "data": {
            "text/plain": [
              "array([0.3, 0.2, 0.5])"
            ]
          },
          "metadata": {},
          "execution_count": 30
        }
      ]
    },
    {
      "cell_type": "code",
      "source": [
        "# 1D array (vector)\n",
        "weights.shape"
      ],
      "metadata": {
        "colab": {
          "base_uri": "https://localhost:8080/"
        },
        "id": "ntSaUq4noWeF",
        "outputId": "f8c56268-1a68-4c28-a15f-cf9a24bfe2fd"
      },
      "execution_count": 31,
      "outputs": [
        {
          "output_type": "execute_result",
          "data": {
            "text/plain": [
              "(3,)"
            ]
          },
          "metadata": {},
          "execution_count": 31
        }
      ]
    },
    {
      "cell_type": "code",
      "source": [
        "# 3D array\n",
        "arr3 = np.array([\n",
        "    [[11, 12, 13],\n",
        "     [13, 14, 15]],\n",
        "    [[15, 16, 17],\n",
        "     [17, 18, 19.5]]])"
      ],
      "metadata": {
        "id": "TMtX89zYoYGA"
      },
      "execution_count": 32,
      "outputs": []
    },
    {
      "cell_type": "code",
      "source": [
        "arr3.shape"
      ],
      "metadata": {
        "colab": {
          "base_uri": "https://localhost:8080/"
        },
        "id": "ZN7D-XOKoZoP",
        "outputId": "84a1a1ee-64fc-41c7-9bc7-2199cc2204ad"
      },
      "execution_count": 33,
      "outputs": [
        {
          "output_type": "execute_result",
          "data": {
            "text/plain": [
              "(2, 2, 3)"
            ]
          },
          "metadata": {},
          "execution_count": 33
        }
      ]
    },
    {
      "cell_type": "markdown",
      "source": [
        "All the elements in a numpy array have the same data type.The data type of an array can be checked using the `.dtype` property."
      ],
      "metadata": {
        "id": "v4-08HaAoe8M"
      }
    },
    {
      "cell_type": "code",
      "source": [
        "weights.dtype"
      ],
      "metadata": {
        "colab": {
          "base_uri": "https://localhost:8080/"
        },
        "id": "vy7QKmpZobCd",
        "outputId": "8b88e381-a77e-4821-e2d4-8c9836d2916f"
      },
      "execution_count": 34,
      "outputs": [
        {
          "output_type": "execute_result",
          "data": {
            "text/plain": [
              "dtype('float64')"
            ]
          },
          "metadata": {},
          "execution_count": 34
        }
      ]
    },
    {
      "cell_type": "code",
      "source": [
        "climate_data.dtype"
      ],
      "metadata": {
        "colab": {
          "base_uri": "https://localhost:8080/"
        },
        "id": "io9BEoUfocoH",
        "outputId": "5edf99a7-1f7d-4560-a2e1-6bc58fc9ccab"
      },
      "execution_count": 35,
      "outputs": [
        {
          "output_type": "execute_result",
          "data": {
            "text/plain": [
              "dtype('int64')"
            ]
          },
          "metadata": {},
          "execution_count": 35
        }
      ]
    },
    {
      "cell_type": "markdown",
      "source": [
        "If an array contains even a single floating point number, all the other elements are also converted to floats."
      ],
      "metadata": {
        "id": "kBieA_vgoxbo"
      }
    },
    {
      "cell_type": "markdown",
      "source": [
        "The `np.matmul` function or the `@` operator acn be used to perform matrix multiplication."
      ],
      "metadata": {
        "id": "yHs6uXeopI6i"
      }
    },
    {
      "cell_type": "code",
      "source": [
        "np.matmul(climate_data, weights)"
      ],
      "metadata": {
        "colab": {
          "base_uri": "https://localhost:8080/"
        },
        "id": "rVFG4Qn3ovmv",
        "outputId": "7db1e442-e26f-4c43-e6a5-5126cd73fa4f"
      },
      "execution_count": 36,
      "outputs": [
        {
          "output_type": "execute_result",
          "data": {
            "text/plain": [
              "array([56.8, 76.9, 81.9, 57.7, 74.9])"
            ]
          },
          "metadata": {},
          "execution_count": 36
        }
      ]
    },
    {
      "cell_type": "code",
      "source": [
        "climate_data @ weights"
      ],
      "metadata": {
        "colab": {
          "base_uri": "https://localhost:8080/"
        },
        "id": "T5SDzcJNpTRN",
        "outputId": "0c7ca2cb-cda0-446a-a3b0-e2ab708c42f8"
      },
      "execution_count": 37,
      "outputs": [
        {
          "output_type": "execute_result",
          "data": {
            "text/plain": [
              "array([56.8, 76.9, 81.9, 57.7, 74.9])"
            ]
          },
          "metadata": {},
          "execution_count": 37
        }
      ]
    },
    {
      "cell_type": "markdown",
      "source": [
        "## Working with CSV data files\n",
        "\n",
        "Numpy also provides helper functions reading from & writing to files.The file `climate.txt`, contains 10,000 climate measurements (temperature, rainfall & humidity) in the following format:\n",
        "\n",
        "\n",
        "```\n",
        "temperature,rainfall,humidity\n",
        "25.00,76.00,99.00\n",
        "39.00,65.00,70.00\n",
        "59.00,45.00,77.00\n",
        "...\n",
        "```\n",
        "\n",
        "This format of storing data is known as *comma-separated values* or CSV.\n",
        "\n",
        "> **CSVs**: A comma-separated values (CSV) file is a delimited text file that uses a comma to separate values. Each line of the file is a data record. Each record consists of one or more fields, separated by commas. A CSV file typically stores tabular data (numbers and text) in plain text, in which case each line will have the same number of fields. (Wikipedia)\n",
        "\n",
        "\n",
        "To read this file into a numpy array, the `genfromtxt` function is used."
      ],
      "metadata": {
        "id": "oyZMHwVDzuB4"
      }
    },
    {
      "cell_type": "code",
      "source": [
        "import urllib.request\n",
        "# urllib.request.urlretrieve(url, filename) is used to download the file using the url to that file\n",
        "urllib.request.urlretrieve(\n",
        "    'https://gist.github.com/BirajCoder/a4ffcb76fd6fb221d76ac2ee2b8584e9/raw/4054f90adfd361b7aa4255e99c2e874664094cea/climate.csv',\n",
        "    'climate.txt')"
      ],
      "metadata": {
        "id": "2Bgs7ShcrONT",
        "colab": {
          "base_uri": "https://localhost:8080/"
        },
        "outputId": "db1e2f0e-0fa0-4624-a4ea-d170e92eb33d"
      },
      "execution_count": 38,
      "outputs": [
        {
          "output_type": "execute_result",
          "data": {
            "text/plain": [
              "('climate.txt', <http.client.HTTPMessage at 0x7b2da4c0b850>)"
            ]
          },
          "metadata": {},
          "execution_count": 38
        }
      ]
    },
    {
      "cell_type": "code",
      "source": [
        "import numpy as np\n",
        "climate_data = np.genfromtxt('climate.txt', delimiter=',', skip_header= 1 ) #filename, how is the data splited(delimter)"
      ],
      "metadata": {
        "id": "1Bkf6jnt0IUr"
      },
      "execution_count": 39,
      "outputs": []
    },
    {
      "cell_type": "code",
      "source": [
        "climate_data"
      ],
      "metadata": {
        "colab": {
          "base_uri": "https://localhost:8080/"
        },
        "id": "oe1iRL1tv0FM",
        "outputId": "0cbb14bd-283c-45c8-8cbc-cb9befa04328"
      },
      "execution_count": 40,
      "outputs": [
        {
          "output_type": "execute_result",
          "data": {
            "text/plain": [
              "array([[25., 76., 99.],\n",
              "       [39., 65., 70.],\n",
              "       [59., 45., 77.],\n",
              "       ...,\n",
              "       [99., 62., 58.],\n",
              "       [70., 71., 91.],\n",
              "       [92., 39., 76.]])"
            ]
          },
          "metadata": {},
          "execution_count": 40
        }
      ]
    },
    {
      "cell_type": "code",
      "source": [
        "climate_data.shape"
      ],
      "metadata": {
        "colab": {
          "base_uri": "https://localhost:8080/"
        },
        "id": "-k8UVD7Aw4T7",
        "outputId": "07381355-92db-4c63-bde4-037c29fe82ab"
      },
      "execution_count": 41,
      "outputs": [
        {
          "output_type": "execute_result",
          "data": {
            "text/plain": [
              "(10000, 3)"
            ]
          },
          "metadata": {},
          "execution_count": 41
        }
      ]
    },
    {
      "cell_type": "code",
      "source": [
        "weights = np.array([0.3, 0.2, 0.5])"
      ],
      "metadata": {
        "id": "zfiM5k1bw9pm"
      },
      "execution_count": 42,
      "outputs": []
    },
    {
      "cell_type": "code",
      "source": [
        "yeilds = climate_data @ weights"
      ],
      "metadata": {
        "id": "T4ReyNZXxFHf"
      },
      "execution_count": 43,
      "outputs": []
    },
    {
      "cell_type": "code",
      "source": [
        "yeilds"
      ],
      "metadata": {
        "colab": {
          "base_uri": "https://localhost:8080/"
        },
        "id": "bdlZoBVcxLQo",
        "outputId": "f5da691e-901c-455c-c7b0-b7adf990c53d"
      },
      "execution_count": 44,
      "outputs": [
        {
          "output_type": "execute_result",
          "data": {
            "text/plain": [
              "array([72.2, 59.7, 65.2, ..., 71.1, 80.7, 73.4])"
            ]
          },
          "metadata": {},
          "execution_count": 44
        }
      ]
    },
    {
      "cell_type": "code",
      "source": [
        "yeilds.shape"
      ],
      "metadata": {
        "colab": {
          "base_uri": "https://localhost:8080/"
        },
        "id": "JXIJ0WMGxOL6",
        "outputId": "0d793813-4a5a-47ff-fd16-aa34b66147e7"
      },
      "execution_count": 45,
      "outputs": [
        {
          "output_type": "execute_result",
          "data": {
            "text/plain": [
              "(10000,)"
            ]
          },
          "metadata": {},
          "execution_count": 45
        }
      ]
    },
    {
      "cell_type": "markdown",
      "source": [
        "Let's add the `yields` to `climate_data` as a fourth column using the [`np.concatenate`](https://numpy.org/doc/stable/reference/generated/numpy.concatenate.html) function."
      ],
      "metadata": {
        "id": "uRq8lgB7x6xS"
      }
    },
    {
      "cell_type": "code",
      "source": [
        "climate_results = np.concatenate((climate_data, yeilds.reshape(10000, 1)), axis = 1)"
      ],
      "metadata": {
        "id": "eivtCksjxP46"
      },
      "execution_count": 46,
      "outputs": []
    },
    {
      "cell_type": "markdown",
      "source": [
        "In NumPy, the `.reshape()` method is used to change the shape (dimensions) of a NumPy array without changing its data. This method allows you to reorganize the elements of an array into a different shape while ensuring that the total number of elements remains the same."
      ],
      "metadata": {
        "id": "5VLCKNhtyibB"
      }
    },
    {
      "cell_type": "code",
      "source": [
        "climate_results"
      ],
      "metadata": {
        "colab": {
          "base_uri": "https://localhost:8080/"
        },
        "id": "lLHkdrWryLeD",
        "outputId": "7541f1fd-adfc-409d-a12d-09c2ac1cae6f"
      },
      "execution_count": 47,
      "outputs": [
        {
          "output_type": "execute_result",
          "data": {
            "text/plain": [
              "array([[25. , 76. , 99. , 72.2],\n",
              "       [39. , 65. , 70. , 59.7],\n",
              "       [59. , 45. , 77. , 65.2],\n",
              "       ...,\n",
              "       [99. , 62. , 58. , 71.1],\n",
              "       [70. , 71. , 91. , 80.7],\n",
              "       [92. , 39. , 76. , 73.4]])"
            ]
          },
          "metadata": {},
          "execution_count": 47
        }
      ]
    },
    {
      "cell_type": "markdown",
      "source": [
        "* Since we wish to add new columns, we pass the argument `axis=1` to `np.concatenate`. The `axis` argument specifies the dimension for concatenation.\n",
        "\n",
        "*  The arrays should have the same number of dimensions, and the same length along each except the dimension used for concatenation. We use the [`np.reshape`](https://numpy.org/doc/stable/reference/generated/numpy.reshape.html) function to change the shape of `yields` from `(10000,)` to `(10000,1)`.\n"
      ],
      "metadata": {
        "id": "6XrAwjZVza3Z"
      }
    },
    {
      "cell_type": "code",
      "source": [
        "np.savetxt('climate_results.txt', # filename\n",
        "           climate_results, # What to write\n",
        "           fmt='%.2f',  # formatting -> two decimal points for every number\n",
        "           delimiter=',', # Seperation parameter\n",
        "           header='temperature,rainfall,humidity,yeild_apples', # What to display in the first line (header)\n",
        "           )"
      ],
      "metadata": {
        "id": "agsMiO90yNpK"
      },
      "execution_count": 48,
      "outputs": []
    },
    {
      "cell_type": "markdown",
      "source": [
        "## Arithmetic operations, broadcasting and comparison\n",
        "\n",
        "Numpy arrays support arithmetic operators like `+`, `-`, `*`, etc. You can perform an arithmetic operation with a single number (also called scalar) or with another array of the same shape. Operators make it easy to write mathematical expressions with multi-dimensional arrays."
      ],
      "metadata": {
        "id": "mnprNcEA023k"
      }
    },
    {
      "cell_type": "code",
      "source": [
        "arr2 = np.array([[1, 2, 3, 4],\n",
        "                 [5, 6, 7, 8],\n",
        "                 [9, 1, 2, 3]])"
      ],
      "metadata": {
        "id": "4YzOqqN70dG6"
      },
      "execution_count": 49,
      "outputs": []
    },
    {
      "cell_type": "code",
      "source": [
        "arr3 = np.array([[11, 12, 13, 5],\n",
        "                [14, 15, 16, 6],\n",
        "                [17, 18, 19, 7]])"
      ],
      "metadata": {
        "id": "wh3kmwjK12hs"
      },
      "execution_count": 50,
      "outputs": []
    },
    {
      "cell_type": "code",
      "source": [
        "arr2 + arr3"
      ],
      "metadata": {
        "colab": {
          "base_uri": "https://localhost:8080/"
        },
        "id": "inuWgG-k19iK",
        "outputId": "60f11a0f-fcbb-4764-8de3-bd8824ad2cb3"
      },
      "execution_count": 51,
      "outputs": [
        {
          "output_type": "execute_result",
          "data": {
            "text/plain": [
              "array([[12, 14, 16,  9],\n",
              "       [19, 21, 23, 14],\n",
              "       [26, 19, 21, 10]])"
            ]
          },
          "metadata": {},
          "execution_count": 51
        }
      ]
    },
    {
      "cell_type": "code",
      "source": [
        "# adding a scalar\n",
        "arr2 + 8"
      ],
      "metadata": {
        "colab": {
          "base_uri": "https://localhost:8080/"
        },
        "id": "XneArfuI2CT9",
        "outputId": "8e6a481c-7e65-4cf4-8ffd-421758fccf80"
      },
      "execution_count": 52,
      "outputs": [
        {
          "output_type": "execute_result",
          "data": {
            "text/plain": [
              "array([[ 9, 10, 11, 12],\n",
              "       [13, 14, 15, 16],\n",
              "       [17,  9, 10, 11]])"
            ]
          },
          "metadata": {},
          "execution_count": 52
        }
      ]
    },
    {
      "cell_type": "code",
      "source": [
        "# dividing by a scalar\n",
        "arr3 / 2"
      ],
      "metadata": {
        "colab": {
          "base_uri": "https://localhost:8080/"
        },
        "id": "_RBvSygp2P-R",
        "outputId": "182ed482-d9e6-44bf-d9a0-1bbfdea22738"
      },
      "execution_count": 53,
      "outputs": [
        {
          "output_type": "execute_result",
          "data": {
            "text/plain": [
              "array([[5.5, 6. , 6.5, 2.5],\n",
              "       [7. , 7.5, 8. , 3. ],\n",
              "       [8.5, 9. , 9.5, 3.5]])"
            ]
          },
          "metadata": {},
          "execution_count": 53
        }
      ]
    },
    {
      "cell_type": "code",
      "source": [
        "arr2 * arr3"
      ],
      "metadata": {
        "colab": {
          "base_uri": "https://localhost:8080/"
        },
        "id": "UPD8MUSy2Y7u",
        "outputId": "72f5bde7-dc74-4948-fb54-42ac3203ebfb"
      },
      "execution_count": 54,
      "outputs": [
        {
          "output_type": "execute_result",
          "data": {
            "text/plain": [
              "array([[ 11,  24,  39,  20],\n",
              "       [ 70,  90, 112,  48],\n",
              "       [153,  18,  38,  21]])"
            ]
          },
          "metadata": {},
          "execution_count": 54
        }
      ]
    },
    {
      "cell_type": "code",
      "source": [
        "#modulus with a scalar\n",
        "arr2 % 4"
      ],
      "metadata": {
        "colab": {
          "base_uri": "https://localhost:8080/"
        },
        "id": "ksGlFGmD2dqT",
        "outputId": "0d7e8f4b-f19a-43cb-aa48-52a855bbcd6c"
      },
      "execution_count": 55,
      "outputs": [
        {
          "output_type": "execute_result",
          "data": {
            "text/plain": [
              "array([[1, 2, 3, 0],\n",
              "       [1, 2, 3, 0],\n",
              "       [1, 1, 2, 3]])"
            ]
          },
          "metadata": {},
          "execution_count": 55
        }
      ]
    },
    {
      "cell_type": "markdown",
      "source": [
        "### Array Broadcasting\n",
        "\n",
        "Numpy arrays also support *broadcasting*, allowing arithmetic operations between two arrays with different numbers of dimensions but compatible shapes. Let's look at an example to see how it works."
      ],
      "metadata": {
        "id": "-Gg7qxgv2r2h"
      }
    },
    {
      "cell_type": "code",
      "source": [
        "arr2"
      ],
      "metadata": {
        "colab": {
          "base_uri": "https://localhost:8080/"
        },
        "id": "sziiDT6O2iM9",
        "outputId": "21f09eda-e3e2-4f09-ac0b-89dfff5dfe19"
      },
      "execution_count": 56,
      "outputs": [
        {
          "output_type": "execute_result",
          "data": {
            "text/plain": [
              "array([[1, 2, 3, 4],\n",
              "       [5, 6, 7, 8],\n",
              "       [9, 1, 2, 3]])"
            ]
          },
          "metadata": {},
          "execution_count": 56
        }
      ]
    },
    {
      "cell_type": "code",
      "source": [
        "arr2.shape"
      ],
      "metadata": {
        "colab": {
          "base_uri": "https://localhost:8080/"
        },
        "id": "5oI_VfA72tRf",
        "outputId": "25676f48-05a4-4d15-d69f-fab85e0118ca"
      },
      "execution_count": 57,
      "outputs": [
        {
          "output_type": "execute_result",
          "data": {
            "text/plain": [
              "(3, 4)"
            ]
          },
          "metadata": {},
          "execution_count": 57
        }
      ]
    },
    {
      "cell_type": "code",
      "source": [
        "arr4 = np.array([4, 5, 6, 7])"
      ],
      "metadata": {
        "id": "wQny5omd2wFo"
      },
      "execution_count": 58,
      "outputs": []
    },
    {
      "cell_type": "code",
      "source": [
        "arr4.shape"
      ],
      "metadata": {
        "colab": {
          "base_uri": "https://localhost:8080/"
        },
        "id": "kcvbyTFZ22GV",
        "outputId": "fe60a144-cb84-4cf8-d49c-72763766ac34"
      },
      "execution_count": 59,
      "outputs": [
        {
          "output_type": "execute_result",
          "data": {
            "text/plain": [
              "(4,)"
            ]
          },
          "metadata": {},
          "execution_count": 59
        }
      ]
    },
    {
      "cell_type": "code",
      "source": [
        "arr2 + arr4"
      ],
      "metadata": {
        "colab": {
          "base_uri": "https://localhost:8080/"
        },
        "id": "IJfB7rEX28kq",
        "outputId": "8a20ce0c-ae47-4f2f-ef6f-0db08b2152eb"
      },
      "execution_count": 60,
      "outputs": [
        {
          "output_type": "execute_result",
          "data": {
            "text/plain": [
              "array([[ 5,  7,  9, 11],\n",
              "       [ 9, 11, 13, 15],\n",
              "       [13,  6,  8, 10]])"
            ]
          },
          "metadata": {},
          "execution_count": 60
        }
      ]
    },
    {
      "cell_type": "markdown",
      "source": [
        "When the expression `arr2 + arr4` is evaluated, `arr4` (which has the shape `(4,)`) is replicated three times to match the shape `(3, 4)` of `arr2`. Numpy performs the replication without actually creating three copies of the smaller dimension array, thus improving performance and using lower memory.\n",
        "\n",
        "Broadcasting only works if one of the arrays can be replicated to match the other array's shape."
      ],
      "metadata": {
        "id": "Cwko-6GO3Jv7"
      }
    },
    {
      "cell_type": "markdown",
      "source": [
        "### Array Comparison\n",
        "\n",
        "Numpy arrays also support comparison operations like `==`, `!=`, `>` etc. The result is an array of booleans."
      ],
      "metadata": {
        "id": "GAn-a3HM31xZ"
      }
    },
    {
      "cell_type": "code",
      "source": [
        "arr1 = np.array([[1, 2, 3], [3, 4, 5]])\n",
        "arr2 = np.array([[2, 2, 3], [1, 2, 5]])"
      ],
      "metadata": {
        "id": "_auTyrwP2_GD"
      },
      "execution_count": 61,
      "outputs": []
    },
    {
      "cell_type": "code",
      "source": [
        "arr1 == arr2"
      ],
      "metadata": {
        "colab": {
          "base_uri": "https://localhost:8080/"
        },
        "id": "G3vuiZ8s35AW",
        "outputId": "7b4ad04d-38a4-46a6-d34c-48eac92c2bb8"
      },
      "execution_count": 62,
      "outputs": [
        {
          "output_type": "execute_result",
          "data": {
            "text/plain": [
              "array([[False,  True,  True],\n",
              "       [False, False,  True]])"
            ]
          },
          "metadata": {},
          "execution_count": 62
        }
      ]
    },
    {
      "cell_type": "code",
      "source": [
        "arr1 != arr2"
      ],
      "metadata": {
        "colab": {
          "base_uri": "https://localhost:8080/"
        },
        "id": "MzPz3IBw36Y2",
        "outputId": "e52c9210-98a2-4494-d017-d0ca604b9266"
      },
      "execution_count": 63,
      "outputs": [
        {
          "output_type": "execute_result",
          "data": {
            "text/plain": [
              "array([[ True, False, False],\n",
              "       [ True,  True, False]])"
            ]
          },
          "metadata": {},
          "execution_count": 63
        }
      ]
    },
    {
      "cell_type": "code",
      "source": [
        "arr1 > arr2"
      ],
      "metadata": {
        "colab": {
          "base_uri": "https://localhost:8080/"
        },
        "id": "iHyNL9TK39Iw",
        "outputId": "00db1f4f-7ce5-4007-c299-eef5d96a23d1"
      },
      "execution_count": 64,
      "outputs": [
        {
          "output_type": "execute_result",
          "data": {
            "text/plain": [
              "array([[False, False, False],\n",
              "       [ True,  True, False]])"
            ]
          },
          "metadata": {},
          "execution_count": 64
        }
      ]
    },
    {
      "cell_type": "code",
      "source": [
        "arr1 >= arr2"
      ],
      "metadata": {
        "colab": {
          "base_uri": "https://localhost:8080/"
        },
        "id": "b_r3QPov3_2-",
        "outputId": "44ac0a82-dee9-4466-de3c-1ef2e1c42e63"
      },
      "execution_count": 65,
      "outputs": [
        {
          "output_type": "execute_result",
          "data": {
            "text/plain": [
              "array([[False,  True,  True],\n",
              "       [ True,  True,  True]])"
            ]
          },
          "metadata": {},
          "execution_count": 65
        }
      ]
    },
    {
      "cell_type": "markdown",
      "source": [
        "Array comparison is frequently used to count the number of equal elements in two arrays using the `sum` method. Remember that `True` evaluates to `1` and `False` evaluates to `0` when booleans are used in arithmetic operations."
      ],
      "metadata": {
        "id": "yY3ruyoC4PiQ"
      }
    },
    {
      "cell_type": "code",
      "source": [
        "(arr1 == arr2).sum() # gives the number of matching elements in arr1 and arr2"
      ],
      "metadata": {
        "colab": {
          "base_uri": "https://localhost:8080/"
        },
        "id": "kmoVdXE14C_2",
        "outputId": "2f87d897-ba12-4a7a-f7a0-45e6b6d970b3"
      },
      "execution_count": 66,
      "outputs": [
        {
          "output_type": "execute_result",
          "data": {
            "text/plain": [
              "3"
            ]
          },
          "metadata": {},
          "execution_count": 66
        }
      ]
    },
    {
      "cell_type": "markdown",
      "source": [
        "## Array indexing and slicing\n",
        "\n",
        "Numpy extends Python's list indexing notation using `[]` to multiple dimensions in an intuitive fashion. You can provide a comma-separated list of indices or ranges to select a specific element or a subarray (also called a slice) from a Numpy array."
      ],
      "metadata": {
        "id": "JpESMoI14ciB"
      }
    },
    {
      "cell_type": "code",
      "source": [
        "arr3 = np.array([\n",
        "    [[11, 12, 13, 14],\n",
        "     [13, 14, 15, 19]],\n",
        "\n",
        "    [[15, 16, 17, 21],\n",
        "     [63, 92, 36, 18]],\n",
        "\n",
        "    [[98, 32, 81, 23],\n",
        "     [17, 18, 19.5, 43]]])"
      ],
      "metadata": {
        "id": "1AYBUbbj4SCf"
      },
      "execution_count": 67,
      "outputs": []
    },
    {
      "cell_type": "code",
      "source": [
        "arr3.shape"
      ],
      "metadata": {
        "colab": {
          "base_uri": "https://localhost:8080/"
        },
        "id": "eNrEeo-V5gfV",
        "outputId": "e14f2b0e-378a-4ddf-ab1c-c5e5748aef4a"
      },
      "execution_count": 68,
      "outputs": [
        {
          "output_type": "execute_result",
          "data": {
            "text/plain": [
              "(3, 2, 4)"
            ]
          },
          "metadata": {},
          "execution_count": 68
        }
      ]
    },
    {
      "cell_type": "code",
      "source": [
        "# Slicing a 2D array\n",
        "arr3[1] # note: Indexing starts from 0"
      ],
      "metadata": {
        "colab": {
          "base_uri": "https://localhost:8080/"
        },
        "id": "_gUgqmbq55HC",
        "outputId": "e20ba74f-e87d-4696-fa52-f84a808abaa7"
      },
      "execution_count": 69,
      "outputs": [
        {
          "output_type": "execute_result",
          "data": {
            "text/plain": [
              "array([[15., 16., 17., 21.],\n",
              "       [63., 92., 36., 18.]])"
            ]
          },
          "metadata": {},
          "execution_count": 69
        }
      ]
    },
    {
      "cell_type": "code",
      "source": [
        "# Slicing a 1D array\n",
        "arr3[1,1]"
      ],
      "metadata": {
        "colab": {
          "base_uri": "https://localhost:8080/"
        },
        "id": "7dfqyHX9591N",
        "outputId": "0aa5646a-b120-40ff-ebbd-c8b84d16ee3c"
      },
      "execution_count": 70,
      "outputs": [
        {
          "output_type": "execute_result",
          "data": {
            "text/plain": [
              "array([63., 92., 36., 18.])"
            ]
          },
          "metadata": {},
          "execution_count": 70
        }
      ]
    },
    {
      "cell_type": "code",
      "source": [
        "# How to slice a single element\n",
        "arr3[1,1,2]"
      ],
      "metadata": {
        "colab": {
          "base_uri": "https://localhost:8080/"
        },
        "id": "VnJUJm9V5hca",
        "outputId": "ad04759a-7be4-4d85-c242-99664e7fe0d1"
      },
      "execution_count": 71,
      "outputs": [
        {
          "output_type": "execute_result",
          "data": {
            "text/plain": [
              "36.0"
            ]
          },
          "metadata": {},
          "execution_count": 71
        }
      ]
    },
    {
      "cell_type": "code",
      "source": [
        "# Subarray using ranges\n",
        "arr3[1:, 0:1, :2] # elements of the outermost array, elements of the middle array, elements of the innermost array"
      ],
      "metadata": {
        "colab": {
          "base_uri": "https://localhost:8080/"
        },
        "id": "ISoysgWb5o6j",
        "outputId": "e45f3668-b257-40c2-f04e-4ab67292b39b"
      },
      "execution_count": 72,
      "outputs": [
        {
          "output_type": "execute_result",
          "data": {
            "text/plain": [
              "array([[[15., 16.]],\n",
              "\n",
              "       [[98., 32.]]])"
            ]
          },
          "metadata": {},
          "execution_count": 72
        }
      ]
    },
    {
      "cell_type": "code",
      "source": [
        "arr3[1:, 0:1, :2].shape"
      ],
      "metadata": {
        "colab": {
          "base_uri": "https://localhost:8080/"
        },
        "id": "N6ydi_i8KgwI",
        "outputId": "d3925cb8-3c4c-4027-956d-7e46a14a09dc"
      },
      "execution_count": 73,
      "outputs": [
        {
          "output_type": "execute_result",
          "data": {
            "text/plain": [
              "(2, 1, 2)"
            ]
          },
          "metadata": {},
          "execution_count": 73
        }
      ]
    },
    {
      "cell_type": "code",
      "source": [
        "# mixing indices and ranges\n",
        "arr3[1:, 1, 3]"
      ],
      "metadata": {
        "colab": {
          "base_uri": "https://localhost:8080/"
        },
        "id": "pkaE0GJG6fD6",
        "outputId": "e9281197-1eae-459d-cbef-d452cfbdff9d"
      },
      "execution_count": 74,
      "outputs": [
        {
          "output_type": "execute_result",
          "data": {
            "text/plain": [
              "array([18., 43.])"
            ]
          },
          "metadata": {},
          "execution_count": 74
        }
      ]
    },
    {
      "cell_type": "code",
      "source": [
        "arr3[1]"
      ],
      "metadata": {
        "colab": {
          "base_uri": "https://localhost:8080/"
        },
        "id": "HpYAxgf8KsAR",
        "outputId": "4bcdc903-9363-4a8a-9027-7974d5fb9693"
      },
      "execution_count": 75,
      "outputs": [
        {
          "output_type": "execute_result",
          "data": {
            "text/plain": [
              "array([[15., 16., 17., 21.],\n",
              "       [63., 92., 36., 18.]])"
            ]
          },
          "metadata": {},
          "execution_count": 75
        }
      ]
    },
    {
      "cell_type": "code",
      "source": [
        "# All zeros\n",
        "np.zeros((3,2)) # (3,2) is the shape of the array we want to create\n",
        "# Also called null array/ matrix"
      ],
      "metadata": {
        "colab": {
          "base_uri": "https://localhost:8080/"
        },
        "id": "N2fiCcDaK7R_",
        "outputId": "bff549fa-edea-47c7-c008-3fa5c112cf9c"
      },
      "execution_count": 76,
      "outputs": [
        {
          "output_type": "execute_result",
          "data": {
            "text/plain": [
              "array([[0., 0.],\n",
              "       [0., 0.],\n",
              "       [0., 0.]])"
            ]
          },
          "metadata": {},
          "execution_count": 76
        }
      ]
    },
    {
      "cell_type": "code",
      "source": [
        "# All ones\n",
        "np.ones([2, 2, 3]) # shape can be tuple or a list (Doesn't matter though)"
      ],
      "metadata": {
        "colab": {
          "base_uri": "https://localhost:8080/"
        },
        "id": "uJBi-0O0LMrM",
        "outputId": "cf3a5dd2-7b3f-412e-9690-d1b899800e41"
      },
      "execution_count": 77,
      "outputs": [
        {
          "output_type": "execute_result",
          "data": {
            "text/plain": [
              "array([[[1., 1., 1.],\n",
              "        [1., 1., 1.]],\n",
              "\n",
              "       [[1., 1., 1.],\n",
              "        [1., 1., 1.]]])"
            ]
          },
          "metadata": {},
          "execution_count": 77
        }
      ]
    },
    {
      "cell_type": "code",
      "source": [
        "# Identity Matrix\n",
        "np.eye(3)"
      ],
      "metadata": {
        "colab": {
          "base_uri": "https://localhost:8080/"
        },
        "id": "Hn0EUkt8LeOT",
        "outputId": "54a1f775-e2ba-48bf-f87f-ce88c968ec8e"
      },
      "execution_count": 78,
      "outputs": [
        {
          "output_type": "execute_result",
          "data": {
            "text/plain": [
              "array([[1., 0., 0.],\n",
              "       [0., 1., 0.],\n",
              "       [0., 0., 1.]])"
            ]
          },
          "metadata": {},
          "execution_count": 78
        }
      ]
    },
    {
      "cell_type": "code",
      "source": [
        "# Random Vector\n",
        "np.random.rand(6)"
      ],
      "metadata": {
        "colab": {
          "base_uri": "https://localhost:8080/"
        },
        "id": "jua0Fm6LLzVa",
        "outputId": "cfd0fc43-a92f-482a-bb20-e8deb33dddaa"
      },
      "execution_count": 79,
      "outputs": [
        {
          "output_type": "execute_result",
          "data": {
            "text/plain": [
              "array([0.26935326, 0.07051884, 0.59924261, 0.19968322, 0.96219707,\n",
              "       0.05640275])"
            ]
          },
          "metadata": {},
          "execution_count": 79
        }
      ]
    },
    {
      "cell_type": "code",
      "source": [
        "# Random Matrix\n",
        "np.random.randn(2, 3)"
      ],
      "metadata": {
        "colab": {
          "base_uri": "https://localhost:8080/"
        },
        "id": "WjLSDpIbL4zn",
        "outputId": "0c11805d-6a48-4de8-ef88-53d2aa5ee718"
      },
      "execution_count": 80,
      "outputs": [
        {
          "output_type": "execute_result",
          "data": {
            "text/plain": [
              "array([[ 1.28986161,  0.59865669,  1.65078895],\n",
              "       [-0.22050317,  1.24124581, -1.76047901]])"
            ]
          },
          "metadata": {},
          "execution_count": 80
        }
      ]
    },
    {
      "cell_type": "markdown",
      "source": [
        "`rand()` generates random values uniformly distributed in the range [0, 1), while `randn()` generates random values following a standard normal distribution (mean 0, standard deviation 1)"
      ],
      "metadata": {
        "id": "pgHGgDlaMbyc"
      }
    },
    {
      "cell_type": "code",
      "source": [
        "# Fixed Value\n",
        "np.full([2, 3], 42)"
      ],
      "metadata": {
        "colab": {
          "base_uri": "https://localhost:8080/"
        },
        "id": "8j7LkZpjMFob",
        "outputId": "447067c9-695f-4e4d-9be7-27a4cde6b1b3"
      },
      "execution_count": 81,
      "outputs": [
        {
          "output_type": "execute_result",
          "data": {
            "text/plain": [
              "array([[42, 42, 42],\n",
              "       [42, 42, 42]])"
            ]
          },
          "metadata": {},
          "execution_count": 81
        }
      ]
    },
    {
      "cell_type": "code",
      "source": [
        "# Range with start, end, step\n",
        "np.arange(10, 90, 3)"
      ],
      "metadata": {
        "colab": {
          "base_uri": "https://localhost:8080/"
        },
        "id": "zhX0VgYnM4gf",
        "outputId": "ac6b2e63-8a95-415e-bc75-a0bd4471a2a6"
      },
      "execution_count": 82,
      "outputs": [
        {
          "output_type": "execute_result",
          "data": {
            "text/plain": [
              "array([10, 13, 16, 19, 22, 25, 28, 31, 34, 37, 40, 43, 46, 49, 52, 55, 58,\n",
              "       61, 64, 67, 70, 73, 76, 79, 82, 85, 88])"
            ]
          },
          "metadata": {},
          "execution_count": 82
        }
      ]
    },
    {
      "cell_type": "code",
      "source": [
        "np.arange(10, 90, 3).shape"
      ],
      "metadata": {
        "colab": {
          "base_uri": "https://localhost:8080/"
        },
        "id": "HdV3AtqTNlpA",
        "outputId": "069fcff1-f100-4574-c8b0-41f3e6621735"
      },
      "execution_count": 83,
      "outputs": [
        {
          "output_type": "execute_result",
          "data": {
            "text/plain": [
              "(27,)"
            ]
          },
          "metadata": {},
          "execution_count": 83
        }
      ]
    },
    {
      "cell_type": "code",
      "source": [
        "np.arange(10, 90, 3).reshape(3, 3, 3) # Reshaping the above result into a 3D matrix (3, 3, 3)"
      ],
      "metadata": {
        "colab": {
          "base_uri": "https://localhost:8080/"
        },
        "id": "LzTZ9OTeNo3q",
        "outputId": "ff5d8456-2a69-4958-d841-8bd43bf4578b"
      },
      "execution_count": 84,
      "outputs": [
        {
          "output_type": "execute_result",
          "data": {
            "text/plain": [
              "array([[[10, 13, 16],\n",
              "        [19, 22, 25],\n",
              "        [28, 31, 34]],\n",
              "\n",
              "       [[37, 40, 43],\n",
              "        [46, 49, 52],\n",
              "        [55, 58, 61]],\n",
              "\n",
              "       [[64, 67, 70],\n",
              "        [73, 76, 79],\n",
              "        [82, 85, 88]]])"
            ]
          },
          "metadata": {},
          "execution_count": 84
        }
      ]
    },
    {
      "cell_type": "code",
      "source": [
        "# Equally spaced numbers in a range\n",
        "np.linspace(3, 27, 9) # start, end (inclusive), total number of values"
      ],
      "metadata": {
        "colab": {
          "base_uri": "https://localhost:8080/"
        },
        "id": "ELXyhZvONDEO",
        "outputId": "c409f02f-aae7-4ee9-8dcd-31ece96a0953"
      },
      "execution_count": 85,
      "outputs": [
        {
          "output_type": "execute_result",
          "data": {
            "text/plain": [
              "array([ 3.,  6.,  9., 12., 15., 18., 21., 24., 27.])"
            ]
          },
          "metadata": {},
          "execution_count": 85
        }
      ]
    }
  ]
}